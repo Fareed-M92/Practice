{
  "nbformat": 4,
  "nbformat_minor": 0,
  "metadata": {
    "colab": {
      "provenance": [],
      "authorship_tag": "ABX9TyP6hDer6yIDHXz5uSqR4qgJ",
      "include_colab_link": true
    },
    "kernelspec": {
      "name": "python3",
      "display_name": "Python 3"
    },
    "language_info": {
      "name": "python"
    }
  },
  "cells": [
    {
      "cell_type": "markdown",
      "metadata": {
        "id": "view-in-github",
        "colab_type": "text"
      },
      "source": [
        "<a href=\"https://colab.research.google.com/github/Fareed-M92/Practice/blob/main/test.ipynb\" target=\"_parent\"><img src=\"https://colab.research.google.com/assets/colab-badge.svg\" alt=\"Open In Colab\"/></a>"
      ]
    },
    {
      "cell_type": "markdown",
      "source": [
        "# List Operations"
      ],
      "metadata": {
        "id": "FvK50qdUrXCW"
      }
    },
    {
      "cell_type": "code",
      "source": [
        "l1 = [1,2,3]\n",
        "l2 = [4,5,6]\n",
        "print(l1+l2)"
      ],
      "metadata": {
        "colab": {
          "base_uri": "https://localhost:8080/"
        },
        "id": "YqHpfniUraEw",
        "outputId": "9c262bb4-c555-431b-af90-dd6d9496083e"
      },
      "execution_count": null,
      "outputs": [
        {
          "output_type": "stream",
          "name": "stdout",
          "text": [
            "[1, 2, 3, 4, 5, 6]\n"
          ]
        }
      ]
    },
    {
      "cell_type": "code",
      "source": [
        "i=0\n",
        "while i<len(l1):\n",
        "  if l1[i]%2==0:\n",
        "    l1.remove(l1[i])\n",
        "  else:\n",
        "    i+=1\n",
        "print(l1)\n"
      ],
      "metadata": {
        "id": "MaGyZu8emfyf",
        "outputId": "93c43256-724b-4d19-f71c-15f8cda40c05",
        "colab": {
          "base_uri": "https://localhost:8080/"
        }
      },
      "execution_count": null,
      "outputs": [
        {
          "output_type": "stream",
          "name": "stdout",
          "text": [
            "[1, 3]\n"
          ]
        }
      ]
    },
    {
      "cell_type": "code",
      "source": [
        "l1.r\n",
        "print(l1)"
      ],
      "metadata": {
        "id": "QPR3u-_2yGGX",
        "outputId": "08e18809-e6cf-44f3-bcfe-87fa1a612c2f",
        "colab": {
          "base_uri": "https://localhost:8080/",
          "height": 156
        }
      },
      "execution_count": null,
      "outputs": [
        {
          "output_type": "error",
          "ename": "AttributeError",
          "evalue": "'list' object has no attribute 'replace'",
          "traceback": [
            "\u001b[0;31m---------------------------------------------------------------------------\u001b[0m",
            "\u001b[0;31mAttributeError\u001b[0m                            Traceback (most recent call last)",
            "\u001b[0;32m<ipython-input-7-e71cca0ae4f6>\u001b[0m in \u001b[0;36m<cell line: 1>\u001b[0;34m()\u001b[0m\n\u001b[0;32m----> 1\u001b[0;31m \u001b[0ml1\u001b[0m\u001b[0;34m.\u001b[0m\u001b[0mreplace\u001b[0m\u001b[0;34m(\u001b[0m\u001b[0;36m3\u001b[0m\u001b[0;34m,\u001b[0m\u001b[0;36m6\u001b[0m\u001b[0;34m)\u001b[0m\u001b[0;34m\u001b[0m\u001b[0;34m\u001b[0m\u001b[0m\n\u001b[0m\u001b[1;32m      2\u001b[0m \u001b[0mprint\u001b[0m\u001b[0;34m(\u001b[0m\u001b[0ml1\u001b[0m\u001b[0;34m)\u001b[0m\u001b[0;34m\u001b[0m\u001b[0;34m\u001b[0m\u001b[0m\n",
            "\u001b[0;31mAttributeError\u001b[0m: 'list' object has no attribute 'replace'"
          ]
        }
      ]
    },
    {
      "cell_type": "markdown",
      "source": [
        "# Loop Operations"
      ],
      "metadata": {
        "id": "mbDZORv9rdSD"
      }
    },
    {
      "cell_type": "code",
      "source": [
        "print('working')\n",
        "for i in range(10,2,-1):\n",
        "  # print('here')\n",
        "  print(i)"
      ],
      "metadata": {
        "colab": {
          "base_uri": "https://localhost:8080/"
        },
        "id": "Q74KvuFSriLk",
        "outputId": "e8c075c9-81c5-4efe-ad5c-115647806037"
      },
      "execution_count": null,
      "outputs": [
        {
          "output_type": "stream",
          "name": "stdout",
          "text": [
            "working\n",
            "10\n",
            "9\n",
            "8\n",
            "7\n",
            "6\n",
            "5\n",
            "4\n",
            "3\n"
          ]
        }
      ]
    },
    {
      "cell_type": "code",
      "source": [
        "array = [2,1,33,4,2,1,2,3,2,1,2]\n",
        "toMove=2\n",
        "start=0\n",
        "end=len(array)-1\n",
        "while end>start:\n",
        "        print(end,start)\n",
        "        while array[end] == toMove:\n",
        "            end-=1\n",
        "        while array[start] != toMove:\n",
        "            start+=1\n",
        "        if end<=start:\n",
        "            break\n",
        "\n",
        "        # print(end,array[end], start, array[start])\n",
        "        temp = array[end]\n",
        "        array[end] = array[start]\n",
        "        array[start] = temp\n",
        "        start+=1\n",
        "        end-=1\n",
        "        print(array)\n",
        "        print(end,start)\n",
        "print(array)"
      ],
      "metadata": {
        "id": "gC8Mr3V2GN3j",
        "outputId": "41f2b829-e989-4574-8170-fbc2b719f322",
        "colab": {
          "base_uri": "https://localhost:8080/"
        }
      },
      "execution_count": null,
      "outputs": [
        {
          "output_type": "stream",
          "name": "stdout",
          "text": [
            "10 0\n",
            "[1, 1, 33, 4, 2, 1, 2, 3, 2, 2, 2]\n",
            "8 1\n",
            "8 1\n",
            "[1, 1, 33, 4, 3, 1, 2, 2, 2, 2, 2]\n",
            "6 5\n",
            "6 5\n",
            "[1, 1, 33, 4, 3, 1, 2, 2, 2, 2, 2]\n"
          ]
        }
      ]
    },
    {
      "cell_type": "markdown",
      "source": [
        "# Dictionary Operations"
      ],
      "metadata": {
        "id": "u_yz56t0rirC"
      }
    },
    {
      "cell_type": "code",
      "source": [],
      "metadata": {
        "id": "3tvw0UStrl4T"
      },
      "execution_count": null,
      "outputs": []
    },
    {
      "cell_type": "code",
      "source": [],
      "metadata": {
        "id": "6OG1ZA4ArmbQ"
      },
      "execution_count": null,
      "outputs": []
    },
    {
      "cell_type": "markdown",
      "source": [
        "# String Operations"
      ],
      "metadata": {
        "id": "F672fNbernjj"
      }
    },
    {
      "cell_type": "code",
      "source": [],
      "metadata": {
        "id": "ZwHve02erp1Y"
      },
      "execution_count": null,
      "outputs": []
    },
    {
      "cell_type": "markdown",
      "source": [
        "# Boolean Operations"
      ],
      "metadata": {
        "id": "5fBNyCwKrqQx"
      }
    },
    {
      "cell_type": "code",
      "source": [
        "[1,2,3]==[1,2,3]"
      ],
      "metadata": {
        "colab": {
          "base_uri": "https://localhost:8080/"
        },
        "id": "SOrN9Cjkrs1v",
        "outputId": "79ffbeaa-1460-4e25-96ee-7cdd4a4300f9"
      },
      "execution_count": null,
      "outputs": [
        {
          "output_type": "execute_result",
          "data": {
            "text/plain": [
              "True"
            ]
          },
          "metadata": {},
          "execution_count": 20
        }
      ]
    },
    {
      "cell_type": "code",
      "source": [],
      "metadata": {
        "id": "Bu8XkoSppB1W",
        "outputId": "e6f4d2a5-c239-4b6f-e426-a5db5a6a8fcc",
        "colab": {
          "base_uri": "https://localhost:8080/"
        }
      },
      "execution_count": null,
      "outputs": [
        {
          "output_type": "execute_result",
          "data": {
            "text/plain": [
              "3"
            ]
          },
          "metadata": {},
          "execution_count": 24
        }
      ]
    },
    {
      "cell_type": "markdown",
      "source": [
        "# Functions"
      ],
      "metadata": {
        "id": "SrN5ARPNrteM"
      }
    },
    {
      "cell_type": "code",
      "source": [
        "def spiral(start,n,m,loop):\n",
        "  i,j = start\n",
        "  while j<m-loop:\n",
        "    print(i,j)\n",
        "    j+=1\n",
        "  while i<n-loop:\n",
        "    print(i,j)\n",
        "    i+=1\n",
        "  while j>loop:\n",
        "    print(i,j)\n",
        "    j-=1\n",
        "  while i>loop:\n",
        "    print(i,j)\n",
        "    i-=1\n"
      ],
      "metadata": {
        "id": "61ZXyb1frzsd"
      },
      "execution_count": null,
      "outputs": []
    },
    {
      "cell_type": "code",
      "source": [
        "spiral((1,1),4,5,1)"
      ],
      "metadata": {
        "id": "LuDOmVORmDOP",
        "outputId": "7d40cd05-4430-4ef4-bc87-546f0d0e1b57",
        "colab": {
          "base_uri": "https://localhost:8080/"
        }
      },
      "execution_count": null,
      "outputs": [
        {
          "output_type": "stream",
          "name": "stdout",
          "text": [
            "1 1\n",
            "1 2\n",
            "1 3\n",
            "2 3\n",
            "3 3\n",
            "4 3\n",
            "4 2\n",
            "4 1\n",
            "3 1\n",
            "2 1\n"
          ]
        }
      ]
    },
    {
      "cell_type": "code",
      "source": [
        "list(range(1,1))"
      ],
      "metadata": {
        "id": "HOzudGrhmFZh",
        "outputId": "33352b5a-8700-4691-c03a-5d534097cff4",
        "colab": {
          "base_uri": "https://localhost:8080/"
        }
      },
      "execution_count": null,
      "outputs": [
        {
          "output_type": "execute_result",
          "data": {
            "text/plain": [
              "[]"
            ]
          },
          "metadata": {},
          "execution_count": 2
        }
      ]
    },
    {
      "cell_type": "markdown",
      "source": [
        "# Integer Operations"
      ],
      "metadata": {
        "id": "2IPs5LJnpn9h"
      }
    },
    {
      "cell_type": "code",
      "source": [
        "print(min(3,4))"
      ],
      "metadata": {
        "id": "t74_fpfEpqCE",
        "outputId": "a6da74b6-405a-4644-8664-e4b3f19548ed",
        "colab": {
          "base_uri": "https://localhost:8080/"
        }
      },
      "execution_count": null,
      "outputs": [
        {
          "output_type": "stream",
          "name": "stdout",
          "text": [
            "3\n"
          ]
        }
      ]
    },
    {
      "cell_type": "code",
      "source": [
        "import math\n",
        "print(math.ceil(3/2))"
      ],
      "metadata": {
        "id": "WvEScA33ptrc",
        "outputId": "8931bf80-b27b-4130-99c8-47dc237987cb",
        "colab": {
          "base_uri": "https://localhost:8080/"
        }
      },
      "execution_count": null,
      "outputs": [
        {
          "output_type": "stream",
          "name": "stdout",
          "text": [
            "2\n"
          ]
        }
      ]
    },
    {
      "cell_type": "code",
      "source": [],
      "metadata": {
        "id": "_LRcmy9IpxJg"
      },
      "execution_count": null,
      "outputs": []
    }
  ]
}